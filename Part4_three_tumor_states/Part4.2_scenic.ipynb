{
 "cells": [
  {
   "cell_type": "code",
   "execution_count": null,
   "metadata": {},
   "outputs": [],
   "source": [
    "### R\n",
    "library(MuDataSeurat)\n",
    "workdir <- './SCENIC/'\n",
    "if(!dir.exists(workdir)){dir.create(workdir, recursive = TRUE)}\n",
    "setwd(workdir)\n",
    "seurat <- ReadH5AD('tumor_bigcell.h5ad')\n",
    "write.csv(t(as.matrix(seurat@assays$RNA@counts)),file = \"input_counts.csv\")\n"
   ]
  },
  {
   "cell_type": "code",
   "execution_count": 1,
   "metadata": {},
   "outputs": [],
   "source": [
    "### Generate input.loom file using Python code\n",
    "import loompy as lp\n",
    "import numpy as np\n",
    "import scanpy as sc\n",
    "import os, sys\n",
    "outdir = \"input.loom\"\n",
    "x = sc.read_csv(\"input_counts.csv\")\n",
    "row_attrs = {\"Gene\": np.array(x.var_names)}\n",
    "col_attrs = {\"CellID\": np.array(x.obs_names)}\n",
    "lp.create(outdir,x.X.transpose(),row_attrs,col_attrs)\n"
   ]
  },
  {
   "cell_type": "code",
   "execution_count": 1,
   "metadata": {},
   "outputs": [],
   "source": [
    "dir=/SCENIC/human  # location of database\n",
    "tfs=$dir/allTFs_hg38.txt\n",
    "feather=$dir/hg38__refseq-r80__10kb_up_and_down_tss.mc9nr.genes_vs_motifs.rankings.feather\n",
    "tbl=$dir/motifs-v10nr_clust-nr.hgnc-m0.001-o0.0.tbl\n",
    "\n",
    "ls $tfs  $feather  $tbl  \n",
    "\n",
    "input_loom=input.loom \n",
    "\n",
    "source activate pyscenic\n",
    "\n",
    "\n",
    "# Infer the co-expression module of transcription factors and the provided expression matrix genes\n",
    "echo \"pyscenic grn\"\n",
    "pyscenic grn \\\n",
    "--num_workers 20 \\\n",
    "--output adj.sample.tsv \\\n",
    "--method grnboost2 \\\n",
    "$input_loom  \\\n",
    "$tfs \n",
    "\n",
    "\n",
    "# Perform TF motif enrichment analysis, identify direct targets, and obtain transcription factors (TFs) and their corresponding direct targets\n",
    "echo \"pyscenic cistarget\"\n",
    "pyscenic ctx \\\n",
    "adj.sample.tsv $feather \\\n",
    "--annotations_fname $tbl \\\n",
    "--expression_mtx_fname $input_loom  \\\n",
    "--mode \"dask_multiprocessing\" \\\n",
    "--output sce.regulons.csv \\\n",
    "--num_workers 20  \\\n",
    "--mask_dropouts\n",
    "\n",
    "\n",
    "echo \"pyscenic AUCell\"\n",
    "pyscenic aucell \\\n",
    "$input_loom \\\n",
    "sce.regulons.csv \\\n",
    "--output out_SCENIC.loom \\\n",
    "--num_workers 20 \n",
    "\n",
    "echo \"end\""
   ]
  }
 ],
 "metadata": {
  "kernelspec": {
   "display_name": "st",
   "language": "python",
   "name": "python3"
  },
  "language_info": {
   "codemirror_mode": {
    "name": "ipython",
    "version": 3
   },
   "file_extension": ".py",
   "mimetype": "text/x-python",
   "name": "python",
   "nbconvert_exporter": "python",
   "pygments_lexer": "ipython3",
   "version": "3.8.15"
  }
 },
 "nbformat": 4,
 "nbformat_minor": 2
}
